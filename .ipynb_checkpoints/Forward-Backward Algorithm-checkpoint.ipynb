{
 "cells": [
  {
   "cell_type": "markdown",
   "metadata": {},
   "source": [
    "## Forward-Backward Algorithm\n",
    "\n",
    "In our previous work, we used Viterbi algorithm to do training and testing work of tagging POS on Brown Corpus. In that case, we knew the observations and tags in the training data, so it was a supervised problem, we could obtain the parameters through ML method, then with those parameters, we searched the optimal tags for the testing data. As for the unsupervised problems, we didn't have the series of tags, we only had the series of observations, in order to obtain the parameters. \n",
    "\n",
    "We introduced a kind of EM method which involved with Forward-backward algorithm and Baum-Welch algorithm."
   ]
  },
  {
   "cell_type": "markdown",
   "metadata": {},
   "source": [
    "### Forward Algorithm\n",
    "The forward algorithm, in the context of a hidden Markov model, is used to calculate a 'belief state': the probability of a state at a certain time, given the history of evidence. The process is also known as filtering. The forward algorithm is closely related to, but distinct from, the Viterbi algorithm."
   ]
  },
  {
   "cell_type": "code",
   "execution_count": 2,
   "metadata": {
    "collapsed": false
   },
   "outputs": [],
   "source": [
    "import numpy as np\n",
    "states_set = (1, 2, 3)\n",
    "observation_set = ('red', 'white')\n",
    "observation = ('red', 'white', 'red')\n",
    "trans_p = np.array([[0.5, 0.2, 0.3], [0.3, 0.5, 0.2], [0.2, 0.3, 0.5]])\n",
    "emit_p = np.array([[0.5, 0.4, 0.7], [0.5, 0.6, 0.3], [0.5, 0.4, 0.7]])\n",
    "start_p = np.array([0.2, 0.4, 0.4])"
   ]
  },
  {
   "cell_type": "code",
   "execution_count": 4,
   "metadata": {
    "collapsed": false
   },
   "outputs": [],
   "source": [
    "def forward(trans_p, emit_p, start_p):\n",
    "    obs_len = emit_p.shape[0]#length of the observation series\n",
    "    state_len = len(start_p)#count of the states\n",
    "    alpha = np.zeros([obs_len, state_len])#Alpha t(i) \n",
    "    for i in range(obs_len):\n",
    "        if i == 0:\n",
    "            for j in range(state_len):\n",
    "                alpha[i, j] = start_p[j] * emit_p[i, j]\n",
    "        else:\n",
    "            for j in range(state_len):\n",
    "                alpha[i, j] = np.dot(alpha[i-1, :], trans_p[:, j]) * emit_p[i, j]\n",
    "    P = sum(alpha[obs_len-1,:])\n",
    "    return alpha, P"
   ]
  },
  {
   "cell_type": "code",
   "execution_count": 5,
   "metadata": {
    "collapsed": true
   },
   "outputs": [],
   "source": [
    "alpha, P = forward(trans_p, emit_p, start_p)"
   ]
  },
  {
   "cell_type": "markdown",
   "metadata": {},
   "source": [
    "### Backward Algorithm\n",
    "A similar procedure can be constructed to find backward probabilities."
   ]
  },
  {
   "cell_type": "code",
   "execution_count": 6,
   "metadata": {
    "collapsed": true
   },
   "outputs": [],
   "source": [
    "def backward(trans_p, emit_p, start_p):\n",
    "    obs_len = emit_p.shape[0]#length of the observation series\n",
    "    state_len = len(start_p)#count of the states\n",
    "    beta = np.zeros([obs_len, state_len])#Alpha t(i) \n",
    "    for t in range(obs_len-1, -1, -1):\n",
    "        if t == obs_len-1:\n",
    "            for i in range(state_len):\n",
    "                beta[t, i] = 1\n",
    "        else:\n",
    "            for i in range(state_len):\n",
    "                beta[t, i] = sum([beta[t+1, j] * trans_p[i, j] * emit_p[t+1, j] for j in range(state_len)])\n",
    "    P = sum([beta[0, j] * start_p[j] * emit_p[0, j] for j in range(state_len)])\n",
    "    return beta, P"
   ]
  },
  {
   "cell_type": "code",
   "execution_count": 7,
   "metadata": {
    "collapsed": true
   },
   "outputs": [],
   "source": [
    "beta, P = backward(trans_p, emit_p, start_p)"
   ]
  },
  {
   "cell_type": "markdown",
   "metadata": {},
   "source": [
    "### Forward-Backward Algorithm\n",
    "With the result of forward and backward we can calculate the some probabilities."
   ]
  },
  {
   "cell_type": "code",
   "execution_count": 62,
   "metadata": {
    "collapsed": true
   },
   "outputs": [],
   "source": [
    "#Use results of foroward and backward algorithm to\n",
    "#calculate gamma and epsilon\n",
    "def forward_backward(alpha, beta, P, trans_p, emit_p):\n",
    "    obs_len = alpha.shape[0]\n",
    "    state_len = alpha.shape[1]\n",
    "    gamma = np.zeros([obs_len, state_len])\n",
    "    epsilon = np.zeros([obs_len-1, state_len, state_len])\n",
    "    for t in range(obs_len):\n",
    "        for i in range(state_len):\n",
    "            gamma[t, i] = alpha[t, i] * beta[t, i]/P\n",
    "    \n",
    "    for t in range(obs_len-1):\n",
    "        for i in range(state_len):\n",
    "            for j in range(state_len):\n",
    "                epsilon[t, i, j] = alpha[t, i] * trans_p[i, j] * emit_p[t+1, j] * beta[t+1, j]/P\n",
    "    return gamma, epsilon"
   ]
  },
  {
   "cell_type": "code",
   "execution_count": 63,
   "metadata": {
    "collapsed": false
   },
   "outputs": [
    {
     "data": {
      "text/plain": [
       "array([[ 0.18822283,  0.32216744,  0.48960973],\n",
       "       [ 0.31931069,  0.41542644,  0.26526287],\n",
       "       [ 0.32153773,  0.27271191,  0.40575036]])"
      ]
     },
     "execution_count": 63,
     "metadata": {},
     "output_type": "execute_result"
    }
   ],
   "source": [
    "gamma, epsilon = forward_backward(alpha, beta, P, trans_p, emit_p)\n",
    "gamma"
   ]
  },
  {
   "cell_type": "code",
   "execution_count": 64,
   "metadata": {
    "collapsed": false
   },
   "outputs": [
    {
     "data": {
      "text/plain": [
       "array([[[ 0.1036723 ,  0.04515505,  0.03939548],\n",
       "        [ 0.09952541,  0.18062019,  0.04202184],\n",
       "        [ 0.11611298,  0.1896512 ,  0.18384555]],\n",
       "\n",
       "       [[ 0.14782903,  0.04730529,  0.12417638],\n",
       "        [ 0.12717136,  0.16956181,  0.11869327],\n",
       "        [ 0.04653735,  0.05584481,  0.16288071]]])"
      ]
     },
     "execution_count": 64,
     "metadata": {},
     "output_type": "execute_result"
    }
   ],
   "source": [
    "epsilon"
   ]
  },
  {
   "cell_type": "markdown",
   "metadata": {},
   "source": [
    "### Baum-Welch Algorithm\n",
    "\n",
    "With the calculation results of Forward-backward method, we can do iteration to update the initial parameters."
   ]
  },
  {
   "cell_type": "code",
   "execution_count": 73,
   "metadata": {
    "collapsed": false
   },
   "outputs": [],
   "source": [
    "def ExtendEmissionMatrix(obs, obs_set, emit_p):\n",
    "    obs_len = len(obs)\n",
    "    obs_set_len = emit_p.shape[0]\n",
    "    state_len = emit_p.shape[1]\n",
    "    emit_p_extend = np.zeros([obs_len, state_len])\n",
    "    for i in range(obs_len):\n",
    "        o = obs[i]#Current observation\n",
    "        index = obs_set.index(o)#Find index in the set\n",
    "        emit_p_extend[i, :] = emit_p[index, :]\n",
    "    return emit_p_extend\n",
    "\n",
    "def Baum_Welch(obs, obs_set, state_set, N=1):\n",
    "    obs_len = len(obs)#length of the series\n",
    "    obs_set_len = len(obs_set)\n",
    "    state_len = len(state_set)\n",
    "    start_p = np.zeros(state_len)\n",
    "    trans_p = np.zeros([state_len, state_len])\n",
    "    emit_p = np.zeros([obs_set_len, state_len])\n",
    "    counter = 0#Record the loop times\n",
    "    ##Initialize the unknown parameters\n",
    "    ##Suppose they are of uniform distribution\n",
    "    np.random.seed(111)\n",
    "    start_p = np.random.rand(state_len)\n",
    "    start_p = start_p/sum(start_p)\n",
    "    for i in range(state_len):\n",
    "        emit_p[:, i] = np.random.rand(obs_set_len)\n",
    "        emit_p[:, i] = emit_p[:, i]/sum(emit_p[:, i])\n",
    "        trans_p[i, :] = np.random.rand(state_len)\n",
    "        trans_p[i, :] = trans_p[i, :]/sum(trans_p[i, :])\n",
    "    \n",
    "    while counter < N:\n",
    "        counter += 1\n",
    "        ##Extend emission matrix according to the length of observation\n",
    "        obs_dict = {}#record indice of observations for each unique observation\n",
    "        emit_p_extend = ExtendEmissionMatrix(obs, obs_set, emit_p)\n",
    "        for i, o in enumerate(obs):\n",
    "            if o not in obs_dict.keys():\n",
    "                obs_dict[o] = [i]    \n",
    "            else:\n",
    "                obs_dict[o].append(i)\n",
    "        ##ForwardAlgorithm\n",
    "        alpha, P = forward(trans_p, emit_p_extend, start_p)\n",
    "        ##Backward Algorithm\n",
    "        beta, P = backward(trans_p, emit_p_extend, start_p)\n",
    "        ##Forward-backward algorithm\n",
    "        gamma, epsilon = forward_backward(alpha, beta, P, trans_p, emit_p_extend)\n",
    "        ##Update the parameters\n",
    "        start_p = gamma[0, :]\n",
    "        for i in range(state_len):\n",
    "            ###Update transformation matrix\n",
    "            for j in range(state_len):\n",
    "                trans_p[i, j] = sum(epsilon[:, i, j])/sum(gamma[:(obs_len-1), i])\n",
    "                ###Upate emission matrix\n",
    "            for k in range(obs_set_len):\n",
    "                emit_p[k, i] = sum([gamma[l, i] for l in obs_dict[obs_set[k]]])/sum(gamma[:, i])\n",
    "    return start_p, emit_p, trans_p, gamma, epsilon"
   ]
  },
  {
   "cell_type": "code",
   "execution_count": 76,
   "metadata": {
    "collapsed": false,
    "scrolled": true
   },
   "outputs": [
    {
     "data": {
      "text/plain": [
       "(array([  9.62970257e-01,   3.62251776e-02,   8.04565622e-04]),\n",
       " array([[ 0.48246651,  0.30430746,  0.01402678],\n",
       "        [ 0.47745428,  0.2139574 ,  0.08836835],\n",
       "        [ 0.03406818,  0.00509288,  0.3887109 ],\n",
       "        [ 0.00601103,  0.47664226,  0.50889397]]),\n",
       " array([[ 0.28218739,  0.18867208,  0.52914053],\n",
       "        [ 0.73205894,  0.15592468,  0.11201637],\n",
       "        [ 0.16481219,  0.51739933,  0.31778848]]),\n",
       " array([[  9.62970257e-01,   3.62251776e-02,   8.04565622e-04],\n",
       "        [  1.02007573e-02,   3.25229266e-01,   6.64569976e-01],\n",
       "        [  4.82766180e-01,   4.85952225e-01,   3.12815955e-02],\n",
       "        [  6.70055974e-01,   2.45742974e-01,   8.42010518e-02],\n",
       "        [  7.60661057e-01,   1.21397939e-01,   1.17941003e-01],\n",
       "        [  1.02087100e-01,   8.73913952e-03,   8.89173760e-01],\n",
       "        [  7.81160240e-03,   4.92666591e-01,   4.99521806e-01]]),\n",
       " array([[[  8.99980490e-03,   3.06671067e-01,   6.47299385e-01],\n",
       "         [  1.19677204e-03,   1.80917764e-02,   1.69366291e-02],\n",
       "         [  4.18035698e-06,   4.66423226e-04,   3.33962038e-04]],\n",
       " \n",
       "        [[  6.07758116e-03,   3.49468546e-03,   6.28490670e-04],\n",
       "         [  2.54992636e-01,   6.50481626e-02,   5.18846808e-03],\n",
       "         [  2.21695963e-01,   4.17409377e-01,   2.54646368e-02]],\n",
       " \n",
       "        [[  2.77260569e-01,   1.41424959e-01,   6.40806519e-02],\n",
       "         [  3.82107790e-01,   8.64677011e-02,   1.73767338e-02],\n",
       "         [  1.06876154e-02,   1.78503140e-02,   2.74366614e-03]],\n",
       " \n",
       "        [[  4.91601581e-01,   7.99151588e-02,   9.85392347e-02],\n",
       "         [  2.21079638e-01,   1.59439055e-02,   8.71943017e-03],\n",
       "         [  4.79798383e-02,   2.55388752e-02,   1.06823383e-02]],\n",
       " \n",
       "        [[  5.82386891e-02,   5.06008120e-03,   6.97362287e-01],\n",
       "         [  3.57617882e-02,   1.37846325e-03,   8.42576880e-02],\n",
       "         [  8.08662304e-03,   2.30059507e-03,   1.07553785e-01]],\n",
       " \n",
       "        [[  1.20689263e-03,   2.73261028e-02,   7.35541050e-02],\n",
       "         [  3.79360942e-04,   3.81058582e-03,   4.54919276e-03],\n",
       "         [  6.22534883e-03,   4.61529903e-01,   4.21418509e-01]]]))"
      ]
     },
     "execution_count": 76,
     "metadata": {},
     "output_type": "execute_result"
    }
   ],
   "source": [
    "Baum_Welch(obs=['one','four','one','two','two','three','four'], obs_set=['one','two','three','four'], state_set=['x','y','z'], N=3)"
   ]
  },
  {
   "cell_type": "code",
   "execution_count": null,
   "metadata": {
    "collapsed": true
   },
   "outputs": [],
   "source": []
  }
 ],
 "metadata": {
  "anaconda-cloud": {},
  "kernelspec": {
   "display_name": "Python [Root]",
   "language": "python",
   "name": "Python [Root]"
  },
  "language_info": {
   "codemirror_mode": {
    "name": "ipython",
    "version": 2
   },
   "file_extension": ".py",
   "mimetype": "text/x-python",
   "name": "python",
   "nbconvert_exporter": "python",
   "pygments_lexer": "ipython2",
   "version": "2.7.12"
  }
 },
 "nbformat": 4,
 "nbformat_minor": 0
}
